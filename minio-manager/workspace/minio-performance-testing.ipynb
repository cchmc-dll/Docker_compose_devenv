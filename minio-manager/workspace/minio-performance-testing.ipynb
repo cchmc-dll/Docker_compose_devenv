{
 "cells": [
  {
   "cell_type": "code",
   "execution_count": 6,
   "id": "95f981ab",
   "metadata": {
    "ExecuteTime": {
     "end_time": "2022-03-04T05:23:09.523198Z",
     "start_time": "2022-03-04T05:23:09.517054Z"
    }
   },
   "outputs": [],
   "source": [
    "from minio import Minio\n",
    "import os"
   ]
  },
  {
   "cell_type": "code",
   "execution_count": 7,
   "id": "acb035a6",
   "metadata": {
    "ExecuteTime": {
     "end_time": "2022-03-04T05:23:10.683111Z",
     "start_time": "2022-03-04T05:23:10.672045Z"
    }
   },
   "outputs": [],
   "source": [
    "# Create client with access key and secret key with specific region.\n",
    "client1 = Minio(\n",
    "    \"minio-0:9000\",\n",
    "    access_key=\"admin\",\n",
    "    secret_key=\"adminkey\",\n",
    "    secure=False\n",
    ")\n",
    "\n",
    "client2 = Minio(\n",
    "    \"minio-1:9000\",\n",
    "    access_key=\"admin\",\n",
    "    secret_key=\"adminkey\",\n",
    "    secure=False\n",
    ")\n",
    "\n",
    "client3 = Minio(\n",
    "    \"minio-2:9000\",\n",
    "    access_key=\"admin\",\n",
    "    secret_key=\"adminkey\",\n",
    "    secure=False\n",
    ")\n",
    "\n",
    "\n",
    "# # Create client with custom HTTP client using proxy server.\n",
    "# import urllib3\n",
    "# client = Minio(\n",
    "#     \"SERVER:PORT\",\n",
    "#     access_key=\"ACCESS_KEY\",\n",
    "#     secret_key=\"SECRET_KEY\",\n",
    "#     secure=True,\n",
    "#     http_client=urllib3.ProxyManager(\n",
    "#         \"https://PROXYSERVER:PROXYPORT/\",\n",
    "#         timeout=urllib3.Timeout.DEFAULT_TIMEOUT,\n",
    "#         cert_reqs=\"CERT_REQUIRED\",\n",
    "#         retries=urllib3.Retry(\n",
    "#             total=5,\n",
    "#             backoff_factor=0.2,\n",
    "#             status_forcelist=[500, 502, 503, 504],\n",
    "#         ),\n",
    "#     ),\n",
    "#)"
   ]
  },
  {
   "cell_type": "markdown",
   "id": "423bfadb",
   "metadata": {},
   "source": [
    "### Download data from client1 to workspace for performance testing"
   ]
  },
  {
   "cell_type": "code",
   "execution_count": 3,
   "id": "4f91f66c",
   "metadata": {
    "ExecuteTime": {
     "end_time": "2022-03-04T05:05:26.483503Z",
     "start_time": "2022-03-04T05:05:25.304625Z"
    }
   },
   "outputs": [
    {
     "name": "stdout",
     "output_type": "stream",
     "text": [
      "CPU times: user 12 µs, sys: 3 µs, total: 15 µs\n",
      "Wall time: 27.9 µs\n",
      "0 Bucket:  dummy 2022-03-04 05:02:33.664000+00:00\n",
      "1 Bucket:  test2 2022-03-04 01:30:18.221000+00:00\n"
     ]
    }
   ],
   "source": [
    "%time\n",
    "buckets = client1.list_buckets()\n",
    "for b,bucket in enumerate(buckets):\n",
    "    print(b, \"Bucket: \" ,bucket.name, bucket.creation_date)\n",
    "    os.makedirs(bucket.name,exist_ok=True)\n",
    "    # List objects information.\n",
    "    objects = client1.list_objects(bucket.name)\n",
    "    for o,obj in enumerate(objects):\n",
    "        #print(\"\\t\",o, \"Object: \", obj.object_name)\n",
    "        # Download data of an object.\n",
    "        client1.fget_object(bucket.name,obj.object_name, os.path.join(bucket.name,obj.object_name))"
   ]
  },
  {
   "cell_type": "markdown",
   "id": "6f2944f7",
   "metadata": {
    "ExecuteTime": {
     "end_time": "2022-03-04T03:50:40.287177Z",
     "start_time": "2022-03-04T03:50:40.281073Z"
    }
   },
   "source": [
    "### Upload data from workspace to client1, dummy bucket"
   ]
  },
  {
   "cell_type": "code",
   "execution_count": 15,
   "id": "5fd20a55",
   "metadata": {
    "ExecuteTime": {
     "end_time": "2022-03-04T05:27:30.455592Z",
     "start_time": "2022-03-04T05:27:30.442443Z"
    }
   },
   "outputs": [],
   "source": [
    "from minio.deleteobjects import DeleteObject\n",
    "def remove_nonempty_bucket(client,bucket_name):\n",
    "    if client.bucket_exists(bucket_name):\n",
    "        if len(list(client.list_objects(bucket_name))) > 0:\n",
    "            delete_object_list = map(lambda x: DeleteObject(x.object_name),\n",
    "                                     client.list_objects(bucket_name,recursive=True),)\n",
    "            errors = client.remove_objects(bucket_name, delete_object_list)\n",
    "            for error in errors:\n",
    "                print(\"error occured when deleting object\", error)\n",
    "        client.remove_bucket(bucket_name)\n",
    "        print(\"Bucket \", bucket_name, \" removed!\")\n",
    "    else:\n",
    "        print(\"Bucket \", bucket_name, \" does not exist!\")"
   ]
  },
  {
   "cell_type": "code",
   "execution_count": 19,
   "id": "67a6f7f4",
   "metadata": {
    "ExecuteTime": {
     "end_time": "2022-03-04T05:28:28.941806Z",
     "start_time": "2022-03-04T05:28:27.554822Z"
    }
   },
   "outputs": [
    {
     "name": "stdout",
     "output_type": "stream",
     "text": [
      "Bucket  dummy  removed!\n",
      "Upload Done\n",
      "CPU times: user 499 ms, sys: 67.6 ms, total: 566 ms\n",
      "Wall time: 1.37 s\n"
     ]
    }
   ],
   "source": [
    "%%time\n",
    "# Upload data with metadata.\n",
    "#from minio_utils.progress import Progress\n",
    "new_bucket = \"dummy\"\n",
    "upload_folder = \"test2/\"\n",
    "\n",
    "client = client3\n",
    "\n",
    "remove_nonempty_bucket(client,new_bucket)\n",
    "\n",
    "client.make_bucket(new_bucket)\n",
    "\n",
    "files = os.listdir(upload_folder)\n",
    "\n",
    "for f in files:\n",
    "    prefix = f[:2]\n",
    "    result = client.fput_object(\n",
    "    new_bucket, f, os.path.join(upload_folder,f),\n",
    "    metadata={\"prefix\": prefix},\n",
    "    )\n",
    "    #print(\"created {0} object; etag: {1}, version-id: {2}\".format(result.object_name, result.etag, result.version_id,),)\n",
    "print(\"Upload Done\")\n",
    "# # Upload data with tags, retention and legal-hold.\n",
    "# date = datetime.utcnow().replace(\n",
    "#     hour=0, minute=0, second=0, microsecond=0,\n",
    "# ) + timedelta(days=30)\n",
    "# tags = Tags(for_object=True)\n",
    "# tags[\"User\"] = \"jsmith\"\n",
    "# result = client.fput_object(\n",
    "#     \"my-bucket\", \"my-object\", \"my-filename\",\n",
    "#     tags=tags,\n",
    "#     retention=Retention(GOVERNANCE, date),\n",
    "#     legal_hold=True,\n",
    "# )\n",
    "# print(\n",
    "#     \"created {0} object; etag: {1}, version-id: {2}\".format(\n",
    "#         result.object_name, result.etag, result.version_id,\n",
    "#     ),\n",
    "# )\n"
   ]
  },
  {
   "cell_type": "code",
   "execution_count": null,
   "id": "9fea6c64",
   "metadata": {},
   "outputs": [],
   "source": []
  }
 ],
 "metadata": {
  "kernelspec": {
   "display_name": "Python 3",
   "language": "python",
   "name": "python3"
  },
  "language_info": {
   "codemirror_mode": {
    "name": "ipython",
    "version": 3
   },
   "file_extension": ".py",
   "mimetype": "text/x-python",
   "name": "python",
   "nbconvert_exporter": "python",
   "pygments_lexer": "ipython3",
   "version": "3.8.10"
  },
  "toc": {
   "base_numbering": 1,
   "nav_menu": {},
   "number_sections": false,
   "sideBar": true,
   "skip_h1_title": false,
   "title_cell": "Table of Contents",
   "title_sidebar": "Contents",
   "toc_cell": false,
   "toc_position": {},
   "toc_section_display": true,
   "toc_window_display": false
  }
 },
 "nbformat": 4,
 "nbformat_minor": 5
}
